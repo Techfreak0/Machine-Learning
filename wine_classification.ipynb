{
 "cells": [
  {
   "cell_type": "markdown",
   "id": "5b42de32",
   "metadata": {},
   "source": [
    "# WINE CLASSIFICATION PROJECT"
   ]
  },
  {
   "cell_type": "code",
   "execution_count": 7,
   "id": "0baff10d",
   "metadata": {},
   "outputs": [],
   "source": [
    "import numpy as np\n",
    "import pandas as pd\n",
    "import matplotlib.pyplot as plt\n",
    "from sklearn.datasets import load_wine\n",
    "from sklearn.model_selection import train_test_split"
   ]
  },
  {
   "cell_type": "code",
   "execution_count": 20,
   "id": "4e425755",
   "metadata": {},
   "outputs": [],
   "source": [
    "wine_data=load_wine()\n",
    "X_train,X_test,y_train,y_test=train_test_split(wine_data.data,wine_data.target,test_size=0.5,random_state=42)\n",
    "df_x_train=pd.DataFrame(X_train,columns=wine_data.feature_names)"
   ]
  },
  {
   "cell_type": "markdown",
   "id": "039e9278",
   "metadata": {},
   "source": [
    "### DATA UNDERSTANDING"
   ]
  },
  {
   "cell_type": "code",
   "execution_count": 11,
   "id": "2c4c3d78",
   "metadata": {
    "scrolled": true
   },
   "outputs": [
    {
     "data": {
      "image/png": "[encoded data removed]",
      "text/plain": [
       "<Figure size 288x288 with 2 Axes>"
      ]
     },
     "metadata": {
      "needs_background": "light"
     },
     "output_type": "display_data"
    }
   ],
   "source": [
    "#plotting a graph to understand data\n",
    "plt.matshow(df_x_train.corr())\n",
    "plt.colorbar()\n",
    "plt.show()"
   ]
  },
  {
   "cell_type": "markdown",
   "id": "3663354f",
   "metadata": {},
   "source": [
    "### DATA PREPARATION\n",
    "Transforming raw data that was collected into a form that can be used for modeling."
   ]
  },
  {
   "cell_type": "code",
   "execution_count": 4,
   "id": "2e653ddf",
   "metadata": {},
   "outputs": [],
   "source": [
    "#training dataset\n",
    "X_train,X_test,y_train,y_test=train_test_split(wine_data.data,wine_data.target,test_size=0.5,random_state=42)"
   ]
  },
  {
   "cell_type": "code",
   "execution_count": 12,
   "id": "7241dd06",
   "metadata": {},
   "outputs": [
    {
     "data": {
      "text/html": [
       "<div>\n",
       "<style scoped>\n",
       "    .dataframe tbody tr th:only-of-type {\n",
       "        vertical-align: middle;\n",
       "    }\n",
       "\n",
       "    .dataframe tbody tr th {\n",
       "        vertical-align: top;\n",
       "    }\n",
       "\n",
       "    .dataframe thead th {\n",
       "        text-align: right;\n",
       "    }\n",
       "</style>\n",
       "<table border=\"1\" class=\"dataframe\">\n",
       "  <thead>\n",
       "    <tr style=\"text-align: right;\">\n",
       "      <th></th>\n",
       "      <th>alcohol</th>\n",
       "      <th>malic_acid</th>\n",
       "      <th>ash</th>\n",
       "      <th>alcalinity_of_ash</th>\n",
       "      <th>magnesium</th>\n",
       "      <th>total_phenols</th>\n",
       "      <th>flavanoids</th>\n",
       "      <th>nonflavanoid_phenols</th>\n",
       "      <th>proanthocyanins</th>\n",
       "      <th>color_intensity</th>\n",
       "      <th>hue</th>\n",
       "      <th>od280/od315_of_diluted_wines</th>\n",
       "      <th>proline</th>\n",
       "    </tr>\n",
       "  </thead>\n",
       "  <tbody>\n",
       "    <tr>\n",
       "      <th>0</th>\n",
       "      <td>12.70</td>\n",
       "      <td>3.87</td>\n",
       "      <td>2.40</td>\n",
       "      <td>23.0</td>\n",
       "      <td>101.0</td>\n",
       "      <td>2.83</td>\n",
       "      <td>2.55</td>\n",
       "      <td>0.43</td>\n",
       "      <td>1.95</td>\n",
       "      <td>2.57</td>\n",
       "      <td>1.19</td>\n",
       "      <td>3.13</td>\n",
       "      <td>463.0</td>\n",
       "    </tr>\n",
       "    <tr>\n",
       "      <th>1</th>\n",
       "      <td>11.84</td>\n",
       "      <td>0.89</td>\n",
       "      <td>2.58</td>\n",
       "      <td>18.0</td>\n",
       "      <td>94.0</td>\n",
       "      <td>2.20</td>\n",
       "      <td>2.21</td>\n",
       "      <td>0.22</td>\n",
       "      <td>2.35</td>\n",
       "      <td>3.05</td>\n",
       "      <td>0.79</td>\n",
       "      <td>3.08</td>\n",
       "      <td>520.0</td>\n",
       "    </tr>\n",
       "    <tr>\n",
       "      <th>2</th>\n",
       "      <td>14.22</td>\n",
       "      <td>3.99</td>\n",
       "      <td>2.51</td>\n",
       "      <td>13.2</td>\n",
       "      <td>128.0</td>\n",
       "      <td>3.00</td>\n",
       "      <td>3.04</td>\n",
       "      <td>0.20</td>\n",
       "      <td>2.08</td>\n",
       "      <td>5.10</td>\n",
       "      <td>0.89</td>\n",
       "      <td>3.53</td>\n",
       "      <td>760.0</td>\n",
       "    </tr>\n",
       "    <tr>\n",
       "      <th>3</th>\n",
       "      <td>12.60</td>\n",
       "      <td>1.34</td>\n",
       "      <td>1.90</td>\n",
       "      <td>18.5</td>\n",
       "      <td>88.0</td>\n",
       "      <td>1.45</td>\n",
       "      <td>1.36</td>\n",
       "      <td>0.29</td>\n",
       "      <td>1.35</td>\n",
       "      <td>2.45</td>\n",
       "      <td>1.04</td>\n",
       "      <td>2.77</td>\n",
       "      <td>562.0</td>\n",
       "    </tr>\n",
       "    <tr>\n",
       "      <th>4</th>\n",
       "      <td>12.16</td>\n",
       "      <td>1.61</td>\n",
       "      <td>2.31</td>\n",
       "      <td>22.8</td>\n",
       "      <td>90.0</td>\n",
       "      <td>1.78</td>\n",
       "      <td>1.69</td>\n",
       "      <td>0.43</td>\n",
       "      <td>1.56</td>\n",
       "      <td>2.45</td>\n",
       "      <td>1.33</td>\n",
       "      <td>2.26</td>\n",
       "      <td>495.0</td>\n",
       "    </tr>\n",
       "  </tbody>\n",
       "</table>\n",
       "</div>"
      ],
      "text/plain": [
       "   alcohol  malic_acid   ash  alcalinity_of_ash  magnesium  total_phenols  \\\n",
       "0    12.70        3.87  2.40               23.0      101.0           2.83   \n",
       "1    11.84        0.89  2.58               18.0       94.0           2.20   \n",
       "2    14.22        3.99  2.51               13.2      128.0           3.00   \n",
       "3    12.60        1.34  1.90               18.5       88.0           1.45   \n",
       "4    12.16        1.61  2.31               22.8       90.0           1.78   \n",
       "\n",
       "   flavanoids  nonflavanoid_phenols  proanthocyanins  color_intensity   hue  \\\n",
       "0        2.55                  0.43             1.95             2.57  1.19   \n",
       "1        2.21                  0.22             2.35             3.05  0.79   \n",
       "2        3.04                  0.20             2.08             5.10  0.89   \n",
       "3        1.36                  0.29             1.35             2.45  1.04   \n",
       "4        1.69                  0.43             1.56             2.45  1.33   \n",
       "\n",
       "   od280/od315_of_diluted_wines  proline  \n",
       "0                          3.13    463.0  \n",
       "1                          3.08    520.0  \n",
       "2                          3.53    760.0  \n",
       "3                          2.77    562.0  \n",
       "4                          2.26    495.0  "
      ]
     },
     "execution_count": 12,
     "metadata": {},
     "output_type": "execute_result"
    }
   ],
   "source": [
    "df_x_train.head()"
   ]
  },
  {
   "cell_type": "code",
   "execution_count": 13,
   "id": "791e703d",
   "metadata": {
    "scrolled": true
   },
   "outputs": [
    {
     "data": {
      "text/html": [
       "<style type=\"text/css\">\n",
       "</style>\n",
       "<table id=\"T_97b4c_\">\n",
       "  <thead>\n",
       "    <tr>\n",
       "      <th class=\"blank level0\" >&nbsp;</th>\n",
       "      <th class=\"col_heading level0 col0\" >alcohol</th>\n",
       "      <th class=\"col_heading level0 col1\" >malic_acid</th>\n",
       "      <th class=\"col_heading level0 col2\" >ash</th>\n",
       "      <th class=\"col_heading level0 col3\" >alcalinity_of_ash</th>\n",
       "      <th class=\"col_heading level0 col4\" >magnesium</th>\n",
       "      <th class=\"col_heading level0 col5\" >total_phenols</th>\n",
       "      <th class=\"col_heading level0 col6\" >flavanoids</th>\n",
       "      <th class=\"col_heading level0 col7\" >nonflavanoid_phenols</th>\n",
       "      <th class=\"col_heading level0 col8\" >proanthocyanins</th>\n",
       "      <th class=\"col_heading level0 col9\" >color_intensity</th>\n",
       "      <th class=\"col_heading level0 col10\" >hue</th>\n",
       "      <th class=\"col_heading level0 col11\" >od280/od315_of_diluted_wines</th>\n",
       "      <th class=\"col_heading level0 col12\" >proline</th>\n",
       "    </tr>\n",
       "  </thead>\n",
       "  <tbody>\n",
       "    <tr>\n",
       "      <th id=\"T_97b4c_level0_row0\" class=\"row_heading level0 row0\" >count</th>\n",
       "      <td id=\"T_97b4c_row0_col0\" class=\"data row0 col0\" >89.00000</td>\n",
       "      <td id=\"T_97b4c_row0_col1\" class=\"data row0 col1\" >89.00000</td>\n",
       "      <td id=\"T_97b4c_row0_col2\" class=\"data row0 col2\" >89.00000</td>\n",
       "      <td id=\"T_97b4c_row0_col3\" class=\"data row0 col3\" >89.00000</td>\n",
       "      <td id=\"T_97b4c_row0_col4\" class=\"data row0 col4\" >89.00000</td>\n",
       "      <td id=\"T_97b4c_row0_col5\" class=\"data row0 col5\" >89.00000</td>\n",
       "      <td id=\"T_97b4c_row0_col6\" class=\"data row0 col6\" >89.00000</td>\n",
       "      <td id=\"T_97b4c_row0_col7\" class=\"data row0 col7\" >89.00000</td>\n",
       "      <td id=\"T_97b4c_row0_col8\" class=\"data row0 col8\" >89.00000</td>\n",
       "      <td id=\"T_97b4c_row0_col9\" class=\"data row0 col9\" >89.00000</td>\n",
       "      <td id=\"T_97b4c_row0_col10\" class=\"data row0 col10\" >89.00000</td>\n",
       "      <td id=\"T_97b4c_row0_col11\" class=\"data row0 col11\" >89.00000</td>\n",
       "      <td id=\"T_97b4c_row0_col12\" class=\"data row0 col12\" >89.00000</td>\n",
       "    </tr>\n",
       "    <tr>\n",
       "      <th id=\"T_97b4c_level0_row1\" class=\"row_heading level0 row1\" >mean</th>\n",
       "      <td id=\"T_97b4c_row1_col0\" class=\"data row1 col0\" >12.96011</td>\n",
       "      <td id=\"T_97b4c_row1_col1\" class=\"data row1 col1\" >2.43472</td>\n",
       "      <td id=\"T_97b4c_row1_col2\" class=\"data row1 col2\" >2.37000</td>\n",
       "      <td id=\"T_97b4c_row1_col3\" class=\"data row1 col3\" >19.69551</td>\n",
       "      <td id=\"T_97b4c_row1_col4\" class=\"data row1 col4\" >99.68539</td>\n",
       "      <td id=\"T_97b4c_row1_col5\" class=\"data row1 col5\" >2.30393</td>\n",
       "      <td id=\"T_97b4c_row1_col6\" class=\"data row1 col6\" >2.00202</td>\n",
       "      <td id=\"T_97b4c_row1_col7\" class=\"data row1 col7\" >0.37360</td>\n",
       "      <td id=\"T_97b4c_row1_col8\" class=\"data row1 col8\" >1.57461</td>\n",
       "      <td id=\"T_97b4c_row1_col9\" class=\"data row1 col9\" >5.16461</td>\n",
       "      <td id=\"T_97b4c_row1_col10\" class=\"data row1 col10\" >0.94467</td>\n",
       "      <td id=\"T_97b4c_row1_col11\" class=\"data row1 col11\" >2.54899</td>\n",
       "      <td id=\"T_97b4c_row1_col12\" class=\"data row1 col12\" >730.85393</td>\n",
       "    </tr>\n",
       "    <tr>\n",
       "      <th id=\"T_97b4c_level0_row2\" class=\"row_heading level0 row2\" >std</th>\n",
       "      <td id=\"T_97b4c_row2_col0\" class=\"data row2 col0\" >0.87890</td>\n",
       "      <td id=\"T_97b4c_row2_col1\" class=\"data row2 col1\" >1.10208</td>\n",
       "      <td id=\"T_97b4c_row2_col2\" class=\"data row2 col2\" >0.25634</td>\n",
       "      <td id=\"T_97b4c_row2_col3\" class=\"data row2 col3\" >3.63005</td>\n",
       "      <td id=\"T_97b4c_row2_col4\" class=\"data row2 col4\" >13.33536</td>\n",
       "      <td id=\"T_97b4c_row2_col5\" class=\"data row2 col5\" >0.67975</td>\n",
       "      <td id=\"T_97b4c_row2_col6\" class=\"data row2 col6\" >1.04548</td>\n",
       "      <td id=\"T_97b4c_row2_col7\" class=\"data row2 col7\" >0.13405</td>\n",
       "      <td id=\"T_97b4c_row2_col8\" class=\"data row2 col8\" >0.56620</td>\n",
       "      <td id=\"T_97b4c_row2_col9\" class=\"data row2 col9\" >2.32526</td>\n",
       "      <td id=\"T_97b4c_row2_col10\" class=\"data row2 col10\" >0.23536</td>\n",
       "      <td id=\"T_97b4c_row2_col11\" class=\"data row2 col11\" >0.73836</td>\n",
       "      <td id=\"T_97b4c_row2_col12\" class=\"data row2 col12\" >306.43302</td>\n",
       "    </tr>\n",
       "    <tr>\n",
       "      <th id=\"T_97b4c_level0_row3\" class=\"row_heading level0 row3\" >min</th>\n",
       "      <td id=\"T_97b4c_row3_col0\" class=\"data row3 col0\" >11.03000</td>\n",
       "      <td id=\"T_97b4c_row3_col1\" class=\"data row3 col1\" >0.89000</td>\n",
       "      <td id=\"T_97b4c_row3_col2\" class=\"data row3 col2\" >1.36000</td>\n",
       "      <td id=\"T_97b4c_row3_col3\" class=\"data row3 col3\" >10.60000</td>\n",
       "      <td id=\"T_97b4c_row3_col4\" class=\"data row3 col4\" >70.00000</td>\n",
       "      <td id=\"T_97b4c_row3_col5\" class=\"data row3 col5\" >1.10000</td>\n",
       "      <td id=\"T_97b4c_row3_col6\" class=\"data row3 col6\" >0.47000</td>\n",
       "      <td id=\"T_97b4c_row3_col7\" class=\"data row3 col7\" >0.13000</td>\n",
       "      <td id=\"T_97b4c_row3_col8\" class=\"data row3 col8\" >0.42000</td>\n",
       "      <td id=\"T_97b4c_row3_col9\" class=\"data row3 col9\" >1.74000</td>\n",
       "      <td id=\"T_97b4c_row3_col10\" class=\"data row3 col10\" >0.48000</td>\n",
       "      <td id=\"T_97b4c_row3_col11\" class=\"data row3 col11\" >1.27000</td>\n",
       "      <td id=\"T_97b4c_row3_col12\" class=\"data row3 col12\" >278.00000</td>\n",
       "    </tr>\n",
       "    <tr>\n",
       "      <th id=\"T_97b4c_level0_row4\" class=\"row_heading level0 row4\" >25%</th>\n",
       "      <td id=\"T_97b4c_row4_col0\" class=\"data row4 col0\" >12.29000</td>\n",
       "      <td id=\"T_97b4c_row4_col1\" class=\"data row4 col1\" >1.64000</td>\n",
       "      <td id=\"T_97b4c_row4_col2\" class=\"data row4 col2\" >2.25000</td>\n",
       "      <td id=\"T_97b4c_row4_col3\" class=\"data row4 col3\" >18.00000</td>\n",
       "      <td id=\"T_97b4c_row4_col4\" class=\"data row4 col4\" >88.00000</td>\n",
       "      <td id=\"T_97b4c_row4_col5\" class=\"data row4 col5\" >1.70000</td>\n",
       "      <td id=\"T_97b4c_row4_col6\" class=\"data row4 col6\" >1.20000</td>\n",
       "      <td id=\"T_97b4c_row4_col7\" class=\"data row4 col7\" >0.26000</td>\n",
       "      <td id=\"T_97b4c_row4_col8\" class=\"data row4 col8\" >1.25000</td>\n",
       "      <td id=\"T_97b4c_row4_col9\" class=\"data row4 col9\" >3.21000</td>\n",
       "      <td id=\"T_97b4c_row4_col10\" class=\"data row4 col10\" >0.78000</td>\n",
       "      <td id=\"T_97b4c_row4_col11\" class=\"data row4 col11\" >1.75000</td>\n",
       "      <td id=\"T_97b4c_row4_col12\" class=\"data row4 col12\" >495.00000</td>\n",
       "    </tr>\n",
       "    <tr>\n",
       "      <th id=\"T_97b4c_level0_row5\" class=\"row_heading level0 row5\" >50%</th>\n",
       "      <td id=\"T_97b4c_row5_col0\" class=\"data row5 col0\" >12.96000</td>\n",
       "      <td id=\"T_97b4c_row5_col1\" class=\"data row5 col1\" >1.97000</td>\n",
       "      <td id=\"T_97b4c_row5_col2\" class=\"data row5 col2\" >2.38000</td>\n",
       "      <td id=\"T_97b4c_row5_col3\" class=\"data row5 col3\" >20.00000</td>\n",
       "      <td id=\"T_97b4c_row5_col4\" class=\"data row5 col4\" >100.00000</td>\n",
       "      <td id=\"T_97b4c_row5_col5\" class=\"data row5 col5\" >2.20000</td>\n",
       "      <td id=\"T_97b4c_row5_col6\" class=\"data row5 col6\" >1.84000</td>\n",
       "      <td id=\"T_97b4c_row5_col7\" class=\"data row5 col7\" >0.37000</td>\n",
       "      <td id=\"T_97b4c_row5_col8\" class=\"data row5 col8\" >1.53000</td>\n",
       "      <td id=\"T_97b4c_row5_col9\" class=\"data row5 col9\" >5.00000</td>\n",
       "      <td id=\"T_97b4c_row5_col10\" class=\"data row5 col10\" >0.95000</td>\n",
       "      <td id=\"T_97b4c_row5_col11\" class=\"data row5 col11\" >2.77000</td>\n",
       "      <td id=\"T_97b4c_row5_col12\" class=\"data row5 col12\" >630.00000</td>\n",
       "    </tr>\n",
       "    <tr>\n",
       "      <th id=\"T_97b4c_level0_row6\" class=\"row_heading level0 row6\" >75%</th>\n",
       "      <td id=\"T_97b4c_row6_col0\" class=\"data row6 col0\" >13.72000</td>\n",
       "      <td id=\"T_97b4c_row6_col1\" class=\"data row6 col1\" >3.26000</td>\n",
       "      <td id=\"T_97b4c_row6_col2\" class=\"data row6 col2\" >2.54000</td>\n",
       "      <td id=\"T_97b4c_row6_col3\" class=\"data row6 col3\" >22.00000</td>\n",
       "      <td id=\"T_97b4c_row6_col4\" class=\"data row6 col4\" >108.00000</td>\n",
       "      <td id=\"T_97b4c_row6_col5\" class=\"data row6 col5\" >2.88000</td>\n",
       "      <td id=\"T_97b4c_row6_col6\" class=\"data row6 col6\" >2.89000</td>\n",
       "      <td id=\"T_97b4c_row6_col7\" class=\"data row6 col7\" >0.48000</td>\n",
       "      <td id=\"T_97b4c_row6_col8\" class=\"data row6 col8\" >1.87000</td>\n",
       "      <td id=\"T_97b4c_row6_col9\" class=\"data row6 col9\" >6.75000</td>\n",
       "      <td id=\"T_97b4c_row6_col10\" class=\"data row6 col10\" >1.08000</td>\n",
       "      <td id=\"T_97b4c_row6_col11\" class=\"data row6 col11\" >3.16000</td>\n",
       "      <td id=\"T_97b4c_row6_col12\" class=\"data row6 col12\" >920.00000</td>\n",
       "    </tr>\n",
       "    <tr>\n",
       "      <th id=\"T_97b4c_level0_row7\" class=\"row_heading level0 row7\" >max</th>\n",
       "      <td id=\"T_97b4c_row7_col0\" class=\"data row7 col0\" >14.83000</td>\n",
       "      <td id=\"T_97b4c_row7_col1\" class=\"data row7 col1\" >5.65000</td>\n",
       "      <td id=\"T_97b4c_row7_col2\" class=\"data row7 col2\" >3.23000</td>\n",
       "      <td id=\"T_97b4c_row7_col3\" class=\"data row7 col3\" >30.00000</td>\n",
       "      <td id=\"T_97b4c_row7_col4\" class=\"data row7 col4\" >139.00000</td>\n",
       "      <td id=\"T_97b4c_row7_col5\" class=\"data row7 col5\" >3.88000</td>\n",
       "      <td id=\"T_97b4c_row7_col6\" class=\"data row7 col6\" >5.08000</td>\n",
       "      <td id=\"T_97b4c_row7_col7\" class=\"data row7 col7\" >0.66000</td>\n",
       "      <td id=\"T_97b4c_row7_col8\" class=\"data row7 col8\" >3.58000</td>\n",
       "      <td id=\"T_97b4c_row7_col9\" class=\"data row7 col9\" >10.80000</td>\n",
       "      <td id=\"T_97b4c_row7_col10\" class=\"data row7 col10\" >1.71000</td>\n",
       "      <td id=\"T_97b4c_row7_col11\" class=\"data row7 col11\" >3.71000</td>\n",
       "      <td id=\"T_97b4c_row7_col12\" class=\"data row7 col12\" >1547.00000</td>\n",
       "    </tr>\n",
       "  </tbody>\n",
       "</table>\n"
      ],
      "text/plain": [
       "<pandas.io.formats.style.Styler at 0x22602915460>"
      ]
     },
     "execution_count": 13,
     "metadata": {},
     "output_type": "execute_result"
    }
   ],
   "source": [
    "#describing and formatting data to five decimal places\n",
    "#feature identification\n",
    "df_x_train.describe().style.format(\"{:.5f}\")"
   ]
  },
  {
   "cell_type": "markdown",
   "id": "b4edf752",
   "metadata": {},
   "source": [
    "Feature Scaling: To have a same scale for the smallest and largest value for a given feature."
   ]
  },
  {
   "cell_type": "code",
   "execution_count": 14,
   "id": "39ff5e61",
   "metadata": {},
   "outputs": [
    {
     "data": {
      "text/plain": [
       "array([[-0.29763036,  1.30971359,  0.11769613, ...,  1.04824751,\n",
       "         0.79134959, -0.87905518],\n",
       "       [-1.28167477, -1.40957746,  0.82387293, ..., -0.66090388,\n",
       "         0.72324853, -0.69198999],\n",
       "       [ 1.44161091,  1.41921525,  0.54924862, ..., -0.23361603,\n",
       "         1.33615805,  0.09565289],\n",
       "       ...,\n",
       "       [ 1.62468894, -0.51531396,  0.03923204, ...,  1.0909763 ,\n",
       "         0.61428684,  2.67846516],\n",
       "       [-0.30907274, -0.82556864, -0.43155249, ...,  0.06548546,\n",
       "        -0.66601304, -0.77403613],\n",
       "       [-0.70955593,  0.01394403,  0.3530884 , ..., -0.61817509,\n",
       "         1.13185488, -0.96110131]])"
      ]
     },
     "execution_count": 14,
     "metadata": {},
     "output_type": "execute_result"
    }
   ],
   "source": [
    "from sklearn import preprocessing\n",
    "scaler = preprocessing.StandardScaler().fit(X_train)\n",
    "X_scaled = scaler.transform(X_train)\n",
    "X_scaled"
   ]
  },
  {
   "cell_type": "code",
   "execution_count": 15,
   "id": "004aff9e",
   "metadata": {},
   "outputs": [],
   "source": [
    "#importing necessary libraries\n",
    "from sklearn.preprocessing import StandardScaler\n",
    "from sklearn.pipeline import make_pipeline\n",
    "from sklearn import linear_model\n",
    "from sklearn import svm\n",
    "from sklearn.linear_model import LogisticRegression\n",
    "from sklearn.svm import SVC\n",
    "from sklearn.naive_bayes import GaussianNB\n",
    "from sklearn.metrics import confusion_matrix\n",
    "from sklearn.metrics import plot_confusion_matrix\n",
    "from sklearn.metrics import plot_roc_curve"
   ]
  },
  {
   "cell_type": "markdown",
   "id": "9a9cedee",
   "metadata": {},
   "source": [
    "### IMPLEMENTING THREE CLASSIFICATION MODELS"
   ]
  },
  {
   "cell_type": "code",
   "execution_count": 9,
   "id": "78f0e88b",
   "metadata": {},
   "outputs": [],
   "source": [
    "#Performing comparative study on three classification models in order to choose most suitable model"
   ]
  },
  {
   "cell_type": "markdown",
   "id": "7e9743c8",
   "metadata": {},
   "source": [
    "##### Implementing Naive Bayes Model"
   ]
  },
  {
   "cell_type": "code",
   "execution_count": 41,
   "id": "68c7c16d",
   "metadata": {},
   "outputs": [
    {
     "data": {
      "text/plain": [
       "Pipeline(steps=[('gaussiannb', GaussianNB())])"
      ]
     },
     "execution_count": 41,
     "metadata": {},
     "output_type": "execute_result"
    }
   ],
   "source": [
    "pipe=make_pipeline(GaussianNB())\n",
    "pipe.fit(X_train,y_train)"
   ]
  },
  {
   "cell_type": "code",
   "execution_count": 42,
   "id": "ec7e6bd8",
   "metadata": {},
   "outputs": [
    {
     "data": {
      "text/plain": [
       "(0.9775280898876404, 0.9887640449438202)"
      ]
     },
     "execution_count": 42,
     "metadata": {},
     "output_type": "execute_result"
    }
   ],
   "source": [
    "pipe.score(X_train,y_train),pipe.score(X_test,y_test)"
   ]
  },
  {
   "cell_type": "code",
   "execution_count": 43,
   "id": "eef353e2",
   "metadata": {},
   "outputs": [
    {
     "data": {
      "text/plain": [
       "array([[32,  1,  0],\n",
       "       [ 0, 34,  0],\n",
       "       [ 0,  0, 22]], dtype=int64)"
      ]
     },
     "execution_count": 43,
     "metadata": {},
     "output_type": "execute_result"
    }
   ],
   "source": [
    "#evaluation\n",
    "confusion_matrix(y_test,pipe.predict(X_test))"
   ]
  },
  {
   "cell_type": "code",
   "execution_count": 65,
   "id": "1f6430bc",
   "metadata": {},
   "outputs": [
    {
     "data": {
      "image/png": "[encoded data removed]",
      "text/plain": [
       "<Figure size 432x288 with 2 Axes>"
      ]
     },
     "metadata": {
      "needs_background": "light"
     },
     "output_type": "display_data"
    }
   ],
   "source": [
    "clf = GaussianNB()\n",
    "clf.fit(X_train, y_train)\n",
    "GaussianNB()\n",
    "plot_confusion_matrix(clf, X_test, y_test)  \n",
    "plt.show()"
   ]
  },
  {
   "cell_type": "markdown",
   "id": "4da618d1",
   "metadata": {},
   "source": [
    "##### Implementing SVM Model"
   ]
  },
  {
   "cell_type": "code",
   "execution_count": 60,
   "id": "00570f3a",
   "metadata": {},
   "outputs": [
    {
     "data": {
      "text/plain": [
       "Pipeline(steps=[('svc', SVC())])"
      ]
     },
     "execution_count": 60,
     "metadata": {},
     "output_type": "execute_result"
    }
   ],
   "source": [
    "pipe=make_pipeline(svm.SVC())\n",
    "pipe.fit(X_train,y_train)"
   ]
  },
  {
   "cell_type": "code",
   "execution_count": 61,
   "id": "2b9bcd84",
   "metadata": {},
   "outputs": [
    {
     "data": {
      "text/plain": [
       "(0.7640449438202247, 0.651685393258427)"
      ]
     },
     "execution_count": 61,
     "metadata": {},
     "output_type": "execute_result"
    }
   ],
   "source": [
    "pipe.score(X_train,y_train),pipe.score(X_test,y_test)"
   ]
  },
  {
   "cell_type": "code",
   "execution_count": 62,
   "id": "a71ac0bf",
   "metadata": {},
   "outputs": [
    {
     "data": {
      "text/plain": [
       "array([[28,  0,  5],\n",
       "       [ 1, 23, 10],\n",
       "       [ 0, 15,  7]], dtype=int64)"
      ]
     },
     "execution_count": 62,
     "metadata": {},
     "output_type": "execute_result"
    }
   ],
   "source": [
    "#evaluation\n",
    "confusion_matrix(y_test,pipe.predict(X_test))"
   ]
  },
  {
   "cell_type": "code",
   "execution_count": 63,
   "id": "a93f0e3b",
   "metadata": {},
   "outputs": [
    {
     "data": {
      "image/png": "[encoded data removed]",
      "text/plain": [
       "<Figure size 432x288 with 2 Axes>"
      ]
     },
     "metadata": {
      "needs_background": "light"
     },
     "output_type": "display_data"
    }
   ],
   "source": [
    "#visualization\n",
    "clf = SVC(random_state=0)\n",
    "clf.fit(X_train, y_train)\n",
    "SVC(random_state=0)\n",
    "plot_confusion_matrix(clf, X_test, y_test)  \n",
    "plt.show()"
   ]
  },
  {
   "cell_type": "markdown",
   "id": "7cbc2fa5",
   "metadata": {},
   "source": [
    "##### Implementing Logistic Regression"
   ]
  },
  {
   "cell_type": "code",
   "execution_count": 56,
   "id": "d88663dd",
   "metadata": {},
   "outputs": [
    {
     "data": {
      "text/plain": [
       "Pipeline(steps=[('logisticregression', LogisticRegression())])"
      ]
     },
     "execution_count": 56,
     "metadata": {},
     "output_type": "execute_result"
    }
   ],
   "source": [
    "pipe=make_pipeline(linear_model.LogisticRegression())\n",
    "pipe.fit(X_scaled,y_train) #using scaled data here"
   ]
  },
  {
   "cell_type": "code",
   "execution_count": 57,
   "id": "1d6d161b",
   "metadata": {},
   "outputs": [
    {
     "data": {
      "text/plain": [
       "(1.0, 0.3707865168539326)"
      ]
     },
     "execution_count": 57,
     "metadata": {},
     "output_type": "execute_result"
    }
   ],
   "source": [
    "pipe.score(X_scaled,y_train),pipe.score(X_test,y_test)"
   ]
  },
  {
   "cell_type": "code",
   "execution_count": 58,
   "id": "9053178d",
   "metadata": {},
   "outputs": [
    {
     "data": {
      "text/plain": [
       "array([[33,  0,  0],\n",
       "       [34,  0,  0],\n",
       "       [22,  0,  0]], dtype=int64)"
      ]
     },
     "execution_count": 58,
     "metadata": {},
     "output_type": "execute_result"
    }
   ],
   "source": [
    "#evaluation\n",
    "confusion_matrix(y_test,pipe.predict(X_test))"
   ]
  },
  {
   "cell_type": "code",
   "execution_count": 59,
   "id": "2ce168ac",
   "metadata": {},
   "outputs": [
    {
     "data": {
      "image/png": "[encoded data removed]",
      "text/plain": [
       "<Figure size 432x288 with 2 Axes>"
      ]
     },
     "metadata": {
      "needs_background": "light"
     },
     "output_type": "display_data"
    }
   ],
   "source": [
    "clf = LogisticRegression(random_state=0)\n",
    "clf.fit(X_scaled, y_train)\n",
    "LogisticRegression(random_state=0)\n",
    "plot_confusion_matrix(clf, X_test, y_test)  \n",
    "plt.show()"
   ]
  }
 ],
 "metadata": {
  "kernelspec": {
   "display_name": "Python 3 (ipykernel)",
   "language": "python",
   "name": "python3"
  },
  "language_info": {
   "codemirror_mode": {
    "name": "ipython",
    "version": 3
   },
   "file_extension": ".py",
   "mimetype": "text/x-python",
   "name": "python",
   "nbconvert_exporter": "python",
   "pygments_lexer": "ipython3",
   "version": "3.9.7"
  }
 },
 "nbformat": 4,
 "nbformat_minor": 5
}
